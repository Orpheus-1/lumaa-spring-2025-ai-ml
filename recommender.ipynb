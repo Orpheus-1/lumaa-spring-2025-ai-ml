{
 "cells": [
  {
   "cell_type": "markdown",
   "metadata": {},
   "source": [
    "# Simple SBERT Recommendation System #"
   ]
  },
  {
   "cell_type": "code",
   "execution_count": 6,
   "metadata": {},
   "outputs": [],
   "source": [
    "import pandas as pd \n",
    "import numpy as np\n",
    "from sklearn.metrics.pairwise import cosine_similarity\n",
    "from sentence_transformers import SentenceTransformer"
   ]
  },
  {
   "cell_type": "code",
   "execution_count": 7,
   "metadata": {},
   "outputs": [],
   "source": [
    "# load the TMDB database and filter by popularity and limit dataset to 500\n",
    "movies_df = pd.read_csv(\"tmdb_5000_movies.csv\")\n",
    "movies_df = movies_df.sort_values(by='popularity', ascending=False).head(500)"
   ]
  },
  {
   "cell_type": "code",
   "execution_count": 8,
   "metadata": {},
   "outputs": [],
   "source": [
    "# build the vectors\n",
    "model = SentenceTransformer('all-MiniLM-L6-v2')\n",
    "\n",
    "# compute the vectors \n",
    "movies_df['genres_embedding'] = movies_df['genres'].apply(lambda text: model.encode(text, convert_to_numpy=True))\n",
    "movies_df['keywords_embedding'] = movies_df['keywords'].apply(lambda text: model.encode(text, convert_to_numpy=True))\n",
    "movies_df['overview_embedding'] = movies_df['overview'].apply(lambda text: model.encode(text, convert_to_numpy=True))\n",
    "movies_df['title_embedding'] = movies_df['original_title'].apply(lambda text: model.encode(text, convert_to_numpy=True))\n",
    "\n",
    "# helper function to handle empty or missing embeddings\n",
    "def compute_similarity(user_embedding, embedding):\n",
    "    if embedding is None or len(embedding) == 0:\n",
    "        return 0  # Handle empty or missing embeddings\n",
    "    return cosine_similarity(user_embedding.reshape(1, -1), embedding.reshape(1, -1))[0][0]"
   ]
  },
  {
   "cell_type": "code",
   "execution_count": 9,
   "metadata": {},
   "outputs": [],
   "source": [
    "# compute simularity\n",
    "def movie_recommender(user_input, top_n = 5, weight_genres = 0.3, weight_keywords = 0.4, weight_overview = 0.15, weight_title = 0.15):\n",
    "    \"\"\"Returning the top N recommended movies based on weighted text similarity\"\"\"\n",
    "    user_embedding = model.encode(user_input, convert_to_numpy=True)\n",
    "\n",
    "    # similarity calculation\n",
    "    movies_df['genres_similarity'] = movies_df['genres_embedding'].apply(lambda emb: compute_similarity(user_embedding, emb))\n",
    "    movies_df['keywords_similarity'] = movies_df['keywords_embedding'].apply(lambda emb: compute_similarity(user_embedding, emb))\n",
    "    movies_df['overview_similarity'] = movies_df['overview_embedding'].apply(lambda emb: compute_similarity(user_embedding, emb))\n",
    "    movies_df['title_similarity'] = movies_df['title_embedding'].apply(lambda emb: compute_similarity(user_embedding, emb))\n",
    "\n",
    "    # compute the weighted similarity score\n",
    "    movies_df['similarity'] = (\n",
    "        weight_genres * movies_df['genres_similarity'] +\n",
    "        weight_keywords * movies_df['keywords_similarity'] +\n",
    "        weight_overview * movies_df['overview_similarity'] +\n",
    "        weight_title * movies_df['title_similarity']\n",
    "    )\n",
    "    # generate movie recommendations utilzing similarity score\n",
    "    recomendations = movies_df.sort_values(by='similarity', ascending=False).head(top_n)\n",
    "\n",
    "    return recomendations[['original_title']]"
   ]
  },
  {
   "cell_type": "code",
   "execution_count": 10,
   "metadata": {},
   "outputs": [
    {
     "data": {
      "text/html": [
       "<div>\n",
       "<style scoped>\n",
       "    .dataframe tbody tr th:only-of-type {\n",
       "        vertical-align: middle;\n",
       "    }\n",
       "\n",
       "    .dataframe tbody tr th {\n",
       "        vertical-align: top;\n",
       "    }\n",
       "\n",
       "    .dataframe thead th {\n",
       "        text-align: right;\n",
       "    }\n",
       "</style>\n",
       "<table border=\"1\" class=\"dataframe\">\n",
       "  <thead>\n",
       "    <tr style=\"text-align: right;\">\n",
       "      <th></th>\n",
       "      <th>original_title</th>\n",
       "    </tr>\n",
       "  </thead>\n",
       "  <tbody>\n",
       "    <tr>\n",
       "      <th>158</th>\n",
       "      <td>Star Trek</td>\n",
       "    </tr>\n",
       "    <tr>\n",
       "      <th>95</th>\n",
       "      <td>Interstellar</td>\n",
       "    </tr>\n",
       "    <tr>\n",
       "      <th>2912</th>\n",
       "      <td>Star Wars</td>\n",
       "    </tr>\n",
       "    <tr>\n",
       "      <th>56</th>\n",
       "      <td>Star Trek Beyond</td>\n",
       "    </tr>\n",
       "    <tr>\n",
       "      <th>300</th>\n",
       "      <td>Starship Troopers</td>\n",
       "    </tr>\n",
       "  </tbody>\n",
       "</table>\n",
       "</div>"
      ],
      "text/plain": [
       "         original_title\n",
       "158           Star Trek\n",
       "95         Interstellar\n",
       "2912          Star Wars\n",
       "56     Star Trek Beyond\n",
       "300   Starship Troopers"
      ]
     },
     "metadata": {},
     "output_type": "display_data"
    }
   ],
   "source": [
    "# generated recommendation from an example query\n",
    "query = \"I like action movies set in space\"\n",
    "movies = movie_recommender(query)\n",
    "display(movies)\n",
    "\n",
    "#Salary Expectation per Hour: ~$16-$30 || (Assuming 30 hr/week) ...per Month: ~$1500-4000 \n",
    "\n"
   ]
  }
 ],
 "metadata": {
  "kernelspec": {
   "display_name": ".venv",
   "language": "python",
   "name": "python3"
  },
  "language_info": {
   "codemirror_mode": {
    "name": "ipython",
    "version": 3
   },
   "file_extension": ".py",
   "mimetype": "text/x-python",
   "name": "python",
   "nbconvert_exporter": "python",
   "pygments_lexer": "ipython3",
   "version": "3.12.2"
  }
 },
 "nbformat": 4,
 "nbformat_minor": 4
}
